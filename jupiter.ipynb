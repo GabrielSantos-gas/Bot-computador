{
 "cells": [
  {
   "cell_type": "code",
   "execution_count": 5,
   "metadata": {},
   "outputs": [
    {
     "data": {
      "text/plain": [
       "'codigo_barra2.png'"
      ]
     },
     "execution_count": 5,
     "metadata": {},
     "output_type": "execute_result"
    }
   ],
   "source": [
    "from barcode import EAN13 \n",
    "from barcode.writer import ImageWriter\n",
    "\n",
    "codigo_barras2 = EAN13(\"123456123456\", writer=ImageWriter()) \n",
    "codigo_barras2.save(\"codigo_barra2\")"
   ]
  },
  {
   "cell_type": "code",
   "execution_count": 8,
   "metadata": {},
   "outputs": [],
   "source": [
    "codigos_produtos ={\n",
    "    \"arroz\": \"562142305825\",\n",
    "    \"feijao\": \"964852150314\",\n",
    "    \"macarrao\": \"968549285123\",\n",
    "    \"chocolate\": \"856751234821\" }\n",
    "\n",
    "for produto in codigos_produtos:\n",
    "    codigo = codigos_produtos[produto]\n",
    "    codigo_barras2 = EAN13(codigo, writer=ImageWriter()) \n",
    "    codigo_barras2.save(f'codigo_barra_{produto}')"
   ]
  },
  {
   "cell_type": "code",
   "execution_count": 9,
   "metadata": {},
   "outputs": [],
   "source": [
    "import qrcode \n",
    "\n",
    "imagem_qrcode = qrcode.make(\"https://www.instagram.com/gabrrielsanntos/\") \n",
    "imagem_qrcode.save(\"Instagram.png\")"
   ]
  },
  {
   "cell_type": "code",
   "execution_count": 12,
   "metadata": {},
   "outputs": [],
   "source": [
    "link_web = {\n",
    "    \"Linkedin\": \"https://www.linkedin.com/in/gabrielsantos16/\",\n",
    "    \"Gthub\": \"https://github.com/GabrielSantos-gas\",\n",
    "    \"instagram\": \"https://www.instagram.com/gabrrielsanntos/\" \n",
    "    }\n",
    "for produto in link_web:\n",
    "    link = (link_web[produto])\n",
    "    imagem_qrcode = qrcode.make(link) \n",
    "    imagem_qrcode.save(f\"qrcode_{produto}.png\")"
   ]
  }
 ],
 "metadata": {
  "kernelspec": {
   "display_name": "Python 3.10.5 64-bit",
   "language": "python",
   "name": "python3"
  },
  "language_info": {
   "codemirror_mode": {
    "name": "ipython",
    "version": 3
   },
   "file_extension": ".py",
   "mimetype": "text/x-python",
   "name": "python",
   "nbconvert_exporter": "python",
   "pygments_lexer": "ipython3",
   "version": "3.10.5"
  },
  "orig_nbformat": 4,
  "vscode": {
   "interpreter": {
    "hash": "f3d558277e1468fbd6155e81dfccdb965f1cd2a6d9d32bde37de1e4b5da945bd"
   }
  }
 },
 "nbformat": 4,
 "nbformat_minor": 2
}
